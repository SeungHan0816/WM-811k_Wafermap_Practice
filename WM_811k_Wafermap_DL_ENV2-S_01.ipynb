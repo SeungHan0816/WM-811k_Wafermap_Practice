{
  "nbformat": 4,
  "nbformat_minor": 0,
  "metadata": {
    "colab": {
      "provenance": [],
      "gpuType": "T4",
      "authorship_tag": "ABX9TyO5TGPqozmrI7JhMbRIA/O+",
      "include_colab_link": true
    },
    "kernelspec": {
      "name": "python3",
      "display_name": "Python 3"
    },
    "language_info": {
      "name": "python"
    },
    "widgets": {
      "application/vnd.jupyter.widget-state+json": {
        "056019c4c3754cc5a947e0419808a859": {
          "model_module": "@jupyter-widgets/controls",
          "model_name": "HBoxModel",
          "model_module_version": "1.5.0",
          "state": {
            "_dom_classes": [],
            "_model_module": "@jupyter-widgets/controls",
            "_model_module_version": "1.5.0",
            "_model_name": "HBoxModel",
            "_view_count": null,
            "_view_module": "@jupyter-widgets/controls",
            "_view_module_version": "1.5.0",
            "_view_name": "HBoxView",
            "box_style": "",
            "children": [
              "IPY_MODEL_86251c7ddfe64fcb837c4f0832814a2b",
              "IPY_MODEL_b7299ff726404b17bd77948b17a58c41",
              "IPY_MODEL_9815aea1885e4d0bad500a90886c3c8f"
            ],
            "layout": "IPY_MODEL_c68dd6602fd24cd8801cac3008e98a09"
          }
        },
        "86251c7ddfe64fcb837c4f0832814a2b": {
          "model_module": "@jupyter-widgets/controls",
          "model_name": "HTMLModel",
          "model_module_version": "1.5.0",
          "state": {
            "_dom_classes": [],
            "_model_module": "@jupyter-widgets/controls",
            "_model_module_version": "1.5.0",
            "_model_name": "HTMLModel",
            "_view_count": null,
            "_view_module": "@jupyter-widgets/controls",
            "_view_module_version": "1.5.0",
            "_view_name": "HTMLView",
            "description": "",
            "description_tooltip": null,
            "layout": "IPY_MODEL_98d2c1231ec0459295029094d4b85253",
            "placeholder": "​",
            "style": "IPY_MODEL_b47cb7f925ed44a9956d49737d04701b",
            "value": "model.safetensors: 100%"
          }
        },
        "b7299ff726404b17bd77948b17a58c41": {
          "model_module": "@jupyter-widgets/controls",
          "model_name": "FloatProgressModel",
          "model_module_version": "1.5.0",
          "state": {
            "_dom_classes": [],
            "_model_module": "@jupyter-widgets/controls",
            "_model_module_version": "1.5.0",
            "_model_name": "FloatProgressModel",
            "_view_count": null,
            "_view_module": "@jupyter-widgets/controls",
            "_view_module_version": "1.5.0",
            "_view_name": "ProgressView",
            "bar_style": "success",
            "description": "",
            "description_tooltip": null,
            "layout": "IPY_MODEL_36ee99db04c2498eb9be1bc7b5668528",
            "max": 193322802,
            "min": 0,
            "orientation": "horizontal",
            "style": "IPY_MODEL_b06241ce6a7e475387499d32d2b7c0d6",
            "value": 193322802
          }
        },
        "9815aea1885e4d0bad500a90886c3c8f": {
          "model_module": "@jupyter-widgets/controls",
          "model_name": "HTMLModel",
          "model_module_version": "1.5.0",
          "state": {
            "_dom_classes": [],
            "_model_module": "@jupyter-widgets/controls",
            "_model_module_version": "1.5.0",
            "_model_name": "HTMLModel",
            "_view_count": null,
            "_view_module": "@jupyter-widgets/controls",
            "_view_module_version": "1.5.0",
            "_view_name": "HTMLView",
            "description": "",
            "description_tooltip": null,
            "layout": "IPY_MODEL_dfdb5d039e2e420bad02aed498ef8ae7",
            "placeholder": "​",
            "style": "IPY_MODEL_186b54ed0b8b4dffb9737dce5e4f84e4",
            "value": " 193M/193M [00:01&lt;00:00, 115MB/s]"
          }
        },
        "c68dd6602fd24cd8801cac3008e98a09": {
          "model_module": "@jupyter-widgets/base",
          "model_name": "LayoutModel",
          "model_module_version": "1.2.0",
          "state": {
            "_model_module": "@jupyter-widgets/base",
            "_model_module_version": "1.2.0",
            "_model_name": "LayoutModel",
            "_view_count": null,
            "_view_module": "@jupyter-widgets/base",
            "_view_module_version": "1.2.0",
            "_view_name": "LayoutView",
            "align_content": null,
            "align_items": null,
            "align_self": null,
            "border": null,
            "bottom": null,
            "display": null,
            "flex": null,
            "flex_flow": null,
            "grid_area": null,
            "grid_auto_columns": null,
            "grid_auto_flow": null,
            "grid_auto_rows": null,
            "grid_column": null,
            "grid_gap": null,
            "grid_row": null,
            "grid_template_areas": null,
            "grid_template_columns": null,
            "grid_template_rows": null,
            "height": null,
            "justify_content": null,
            "justify_items": null,
            "left": null,
            "margin": null,
            "max_height": null,
            "max_width": null,
            "min_height": null,
            "min_width": null,
            "object_fit": null,
            "object_position": null,
            "order": null,
            "overflow": null,
            "overflow_x": null,
            "overflow_y": null,
            "padding": null,
            "right": null,
            "top": null,
            "visibility": null,
            "width": null
          }
        },
        "98d2c1231ec0459295029094d4b85253": {
          "model_module": "@jupyter-widgets/base",
          "model_name": "LayoutModel",
          "model_module_version": "1.2.0",
          "state": {
            "_model_module": "@jupyter-widgets/base",
            "_model_module_version": "1.2.0",
            "_model_name": "LayoutModel",
            "_view_count": null,
            "_view_module": "@jupyter-widgets/base",
            "_view_module_version": "1.2.0",
            "_view_name": "LayoutView",
            "align_content": null,
            "align_items": null,
            "align_self": null,
            "border": null,
            "bottom": null,
            "display": null,
            "flex": null,
            "flex_flow": null,
            "grid_area": null,
            "grid_auto_columns": null,
            "grid_auto_flow": null,
            "grid_auto_rows": null,
            "grid_column": null,
            "grid_gap": null,
            "grid_row": null,
            "grid_template_areas": null,
            "grid_template_columns": null,
            "grid_template_rows": null,
            "height": null,
            "justify_content": null,
            "justify_items": null,
            "left": null,
            "margin": null,
            "max_height": null,
            "max_width": null,
            "min_height": null,
            "min_width": null,
            "object_fit": null,
            "object_position": null,
            "order": null,
            "overflow": null,
            "overflow_x": null,
            "overflow_y": null,
            "padding": null,
            "right": null,
            "top": null,
            "visibility": null,
            "width": null
          }
        },
        "b47cb7f925ed44a9956d49737d04701b": {
          "model_module": "@jupyter-widgets/controls",
          "model_name": "DescriptionStyleModel",
          "model_module_version": "1.5.0",
          "state": {
            "_model_module": "@jupyter-widgets/controls",
            "_model_module_version": "1.5.0",
            "_model_name": "DescriptionStyleModel",
            "_view_count": null,
            "_view_module": "@jupyter-widgets/base",
            "_view_module_version": "1.2.0",
            "_view_name": "StyleView",
            "description_width": ""
          }
        },
        "36ee99db04c2498eb9be1bc7b5668528": {
          "model_module": "@jupyter-widgets/base",
          "model_name": "LayoutModel",
          "model_module_version": "1.2.0",
          "state": {
            "_model_module": "@jupyter-widgets/base",
            "_model_module_version": "1.2.0",
            "_model_name": "LayoutModel",
            "_view_count": null,
            "_view_module": "@jupyter-widgets/base",
            "_view_module_version": "1.2.0",
            "_view_name": "LayoutView",
            "align_content": null,
            "align_items": null,
            "align_self": null,
            "border": null,
            "bottom": null,
            "display": null,
            "flex": null,
            "flex_flow": null,
            "grid_area": null,
            "grid_auto_columns": null,
            "grid_auto_flow": null,
            "grid_auto_rows": null,
            "grid_column": null,
            "grid_gap": null,
            "grid_row": null,
            "grid_template_areas": null,
            "grid_template_columns": null,
            "grid_template_rows": null,
            "height": null,
            "justify_content": null,
            "justify_items": null,
            "left": null,
            "margin": null,
            "max_height": null,
            "max_width": null,
            "min_height": null,
            "min_width": null,
            "object_fit": null,
            "object_position": null,
            "order": null,
            "overflow": null,
            "overflow_x": null,
            "overflow_y": null,
            "padding": null,
            "right": null,
            "top": null,
            "visibility": null,
            "width": null
          }
        },
        "b06241ce6a7e475387499d32d2b7c0d6": {
          "model_module": "@jupyter-widgets/controls",
          "model_name": "ProgressStyleModel",
          "model_module_version": "1.5.0",
          "state": {
            "_model_module": "@jupyter-widgets/controls",
            "_model_module_version": "1.5.0",
            "_model_name": "ProgressStyleModel",
            "_view_count": null,
            "_view_module": "@jupyter-widgets/base",
            "_view_module_version": "1.2.0",
            "_view_name": "StyleView",
            "bar_color": null,
            "description_width": ""
          }
        },
        "dfdb5d039e2e420bad02aed498ef8ae7": {
          "model_module": "@jupyter-widgets/base",
          "model_name": "LayoutModel",
          "model_module_version": "1.2.0",
          "state": {
            "_model_module": "@jupyter-widgets/base",
            "_model_module_version": "1.2.0",
            "_model_name": "LayoutModel",
            "_view_count": null,
            "_view_module": "@jupyter-widgets/base",
            "_view_module_version": "1.2.0",
            "_view_name": "LayoutView",
            "align_content": null,
            "align_items": null,
            "align_self": null,
            "border": null,
            "bottom": null,
            "display": null,
            "flex": null,
            "flex_flow": null,
            "grid_area": null,
            "grid_auto_columns": null,
            "grid_auto_flow": null,
            "grid_auto_rows": null,
            "grid_column": null,
            "grid_gap": null,
            "grid_row": null,
            "grid_template_areas": null,
            "grid_template_columns": null,
            "grid_template_rows": null,
            "height": null,
            "justify_content": null,
            "justify_items": null,
            "left": null,
            "margin": null,
            "max_height": null,
            "max_width": null,
            "min_height": null,
            "min_width": null,
            "object_fit": null,
            "object_position": null,
            "order": null,
            "overflow": null,
            "overflow_x": null,
            "overflow_y": null,
            "padding": null,
            "right": null,
            "top": null,
            "visibility": null,
            "width": null
          }
        },
        "186b54ed0b8b4dffb9737dce5e4f84e4": {
          "model_module": "@jupyter-widgets/controls",
          "model_name": "DescriptionStyleModel",
          "model_module_version": "1.5.0",
          "state": {
            "_model_module": "@jupyter-widgets/controls",
            "_model_module_version": "1.5.0",
            "_model_name": "DescriptionStyleModel",
            "_view_count": null,
            "_view_module": "@jupyter-widgets/base",
            "_view_module_version": "1.2.0",
            "_view_name": "StyleView",
            "description_width": ""
          }
        }
      }
    },
    "accelerator": "GPU"
  },
  "cells": [
    {
      "cell_type": "markdown",
      "metadata": {
        "id": "view-in-github",
        "colab_type": "text"
      },
      "source": [
        "<a href=\"https://colab.research.google.com/github/SeungHan0816/WM-811k_Wafermap_Practice/blob/main/WM_811k_Wafermap_DL_ENV2-S_01.ipynb\" target=\"_parent\"><img src=\"https://colab.research.google.com/assets/colab-badge.svg\" alt=\"Open In Colab\"/></a>"
      ]
    },
    {
      "cell_type": "code",
      "execution_count": 1,
      "metadata": {
        "colab": {
          "base_uri": "https://localhost:8080/"
        },
        "id": "95lvElh1eOOd",
        "outputId": "33e59a5a-56b8-4b93-93da-2c92b57a22ae"
      },
      "outputs": [
        {
          "output_type": "stream",
          "name": "stdout",
          "text": [
            "\u001b[2K   \u001b[90m━━━━━━━━━━━━━━━━━━━━━━━━━━━━━━━━━━━━━━━━\u001b[0m \u001b[32m363.4/363.4 MB\u001b[0m \u001b[31m4.1 MB/s\u001b[0m eta \u001b[36m0:00:00\u001b[0m\n",
            "\u001b[2K   \u001b[90m━━━━━━━━━━━━━━━━━━━━━━━━━━━━━━━━━━━━━━━━\u001b[0m \u001b[32m13.8/13.8 MB\u001b[0m \u001b[31m47.6 MB/s\u001b[0m eta \u001b[36m0:00:00\u001b[0m\n",
            "\u001b[2K   \u001b[90m━━━━━━━━━━━━━━━━━━━━━━━━━━━━━━━━━━━━━━━━\u001b[0m \u001b[32m24.6/24.6 MB\u001b[0m \u001b[31m30.1 MB/s\u001b[0m eta \u001b[36m0:00:00\u001b[0m\n",
            "\u001b[2K   \u001b[90m━━━━━━━━━━━━━━━━━━━━━━━━━━━━━━━━━━━━━━━━\u001b[0m \u001b[32m883.7/883.7 kB\u001b[0m \u001b[31m43.3 MB/s\u001b[0m eta \u001b[36m0:00:00\u001b[0m\n",
            "\u001b[2K   \u001b[90m━━━━━━━━━━━━━━━━━━━━━━━━━━━━━━━━━━━━━━━━\u001b[0m \u001b[32m664.8/664.8 MB\u001b[0m \u001b[31m2.1 MB/s\u001b[0m eta \u001b[36m0:00:00\u001b[0m\n",
            "\u001b[2K   \u001b[90m━━━━━━━━━━━━━━━━━━━━━━━━━━━━━━━━━━━━━━━━\u001b[0m \u001b[32m211.5/211.5 MB\u001b[0m \u001b[31m6.0 MB/s\u001b[0m eta \u001b[36m0:00:00\u001b[0m\n",
            "\u001b[2K   \u001b[90m━━━━━━━━━━━━━━━━━━━━━━━━━━━━━━━━━━━━━━━━\u001b[0m \u001b[32m56.3/56.3 MB\u001b[0m \u001b[31m12.8 MB/s\u001b[0m eta \u001b[36m0:00:00\u001b[0m\n",
            "\u001b[2K   \u001b[90m━━━━━━━━━━━━━━━━━━━━━━━━━━━━━━━━━━━━━━━━\u001b[0m \u001b[32m127.9/127.9 MB\u001b[0m \u001b[31m7.5 MB/s\u001b[0m eta \u001b[36m0:00:00\u001b[0m\n",
            "\u001b[2K   \u001b[90m━━━━━━━━━━━━━━━━━━━━━━━━━━━━━━━━━━━━━━━━\u001b[0m \u001b[32m207.5/207.5 MB\u001b[0m \u001b[31m5.5 MB/s\u001b[0m eta \u001b[36m0:00:00\u001b[0m\n",
            "\u001b[2K   \u001b[90m━━━━━━━━━━━━━━━━━━━━━━━━━━━━━━━━━━━━━━━━\u001b[0m \u001b[32m21.1/21.1 MB\u001b[0m \u001b[31m92.3 MB/s\u001b[0m eta \u001b[36m0:00:00\u001b[0m\n",
            "\u001b[?25h✅ Device: cuda\n",
            "✅ Raw samples: 811457개\n"
          ]
        }
      ],
      "source": [
        "# EfficientNetV2-S 알고리즘 사용 (GPU 추천)\n",
        "\n",
        "# [1단계] 필수 패키지 설치 + 임포트 + 장치 설정 + 데이터 로딩\n",
        "# Colab에서 최초 1회 실행\n",
        "!pip install kagglehub timm --quiet\n",
        "\n",
        "import os, warnings, numpy as np, pandas as pd, torch\n",
        "import torch.nn as nn, torch.nn.functional as F\n",
        "from torch.utils.data import Dataset, DataLoader\n",
        "from torchvision import transforms\n",
        "from torchvision.transforms import Normalize\n",
        "from sklearn.model_selection import train_test_split\n",
        "from sklearn.metrics import classification_report, confusion_matrix\n",
        "import matplotlib.pyplot as plt\n",
        "import seaborn as sns\n",
        "import timm, kagglehub\n",
        "\n",
        "warnings.filterwarnings(\"ignore\")\n",
        "device = torch.device(\"cuda\" if torch.cuda.is_available() else \"cpu\")\n",
        "print(f\"✅ Device: {device}\")\n",
        "\n",
        "# 데이터셋 다운로드 및 로드\n",
        "data_path = kagglehub.dataset_download('qingyi/wm811k-wafer-map')\n",
        "raw = pd.read_pickle(os.path.join(data_path, \"LSWMD.pkl\"))\n",
        "print(f\"✅ Raw samples: {len(raw)}개\")\n"
      ]
    },
    {
      "cell_type": "code",
      "source": [
        "# [2단계] 전처리 – failureType 추출 → 'none' 제거 → 라벨 매핑 → 이진화\n",
        "\n",
        "# 문자열 안전 추출 함수\n",
        "def safe_extract_failure_type(x):\n",
        "    while isinstance(x, (list, np.ndarray)):\n",
        "        if isinstance(x, np.ndarray) and x.shape == ():\n",
        "            x = x.item()\n",
        "            continue\n",
        "        if len(x) == 0:\n",
        "            return 'none'\n",
        "        x = x[0]\n",
        "    return x if isinstance(x, str) else str(x)\n",
        "\n",
        "# failureType 문자열 추출\n",
        "raw['failureType_str'] = raw['failureType'].apply(safe_extract_failure_type)\n",
        "\n",
        "# 'none' 제거\n",
        "df = raw[raw['failureType_str'] != 'none'].reset_index(drop=True)\n",
        "print(f\"🔹 유효 샘플 수: {len(df)}개\")\n",
        "\n",
        "# 라벨 매핑\n",
        "label_map = {\n",
        "    'Center':0, 'Donut':1, 'Edge-Loc':2, 'Edge-Ring':3,\n",
        "    'Loc':4, 'Random':5, 'Scratch':6, 'Near-full':7\n",
        "}\n",
        "df['label'] = df['failureType_str'].map(label_map)\n",
        "\n",
        "# 이진화 함수 (0/1로)\n",
        "def binarize(x):\n",
        "    a = np.array(x, np.float32)\n",
        "    return (a == 1).astype(np.float32)\n",
        "\n",
        "df['img'] = df['waferMap'].apply(binarize)\n",
        "print(\"✅ 2단계 완료: img·label 컬럼 생성\")\n"
      ],
      "metadata": {
        "colab": {
          "base_uri": "https://localhost:8080/"
        },
        "id": "EfNaUcAUedKQ",
        "outputId": "2dd71750-8605-4255-e76f-0f8ff4350b87"
      },
      "execution_count": 2,
      "outputs": [
        {
          "output_type": "stream",
          "name": "stdout",
          "text": [
            "🔹 유효 샘플 수: 25519개\n",
            "✅ 2단계 완료: img·label 컬럼 생성\n"
          ]
        }
      ]
    },
    {
      "cell_type": "code",
      "source": [
        "# [3단계] 클래스 분포 확인 + 학습/검증 데이터 분할\n",
        "\n",
        "# 역 라벨 매핑\n",
        "reverse_map = {v: k for k, v in label_map.items()}\n",
        "\n",
        "# 전체 클래스 분포 출력\n",
        "total = len(df)\n",
        "print(f\"🔹 전체 샘플 수: {total}개\")\n",
        "for cls in sorted(reverse_map):\n",
        "    cnt = (df['label'] == cls).sum()\n",
        "    print(f\"  클래스 {cls}({reverse_map[cls]}): {cnt}개 ({cnt / total * 100:.2f}%)\")\n",
        "\n",
        "# 학습 / 검증 셋 분할 (라벨 균형 유지)\n",
        "train_df, val_df = train_test_split(df, test_size=0.2, stratify=df['label'], random_state=42)\n",
        "\n",
        "# 학습셋 분포 출력\n",
        "train_total = len(train_df)\n",
        "print(f\"\\n🟢 학습 데이터 수: {train_total}개\")\n",
        "for cls in sorted(reverse_map):\n",
        "    cnt = (train_df['label'] == cls).sum()\n",
        "    print(f\"  클래스 {cls}: {cnt}개 ({cnt / train_total * 100:.2f}%)\")\n",
        "\n",
        "# 검증셋 분포 출력\n",
        "val_total = len(val_df)\n",
        "print(f\"\\n🔵 검증 데이터 수: {val_total}개\")\n",
        "for cls in sorted(reverse_map):\n",
        "    cnt = (val_df['label'] == cls).sum()\n",
        "    print(f\"  클래스 {cls}: {cnt}개 ({cnt / val_total * 100:.2f}%)\")\n"
      ],
      "metadata": {
        "colab": {
          "base_uri": "https://localhost:8080/"
        },
        "id": "60jaLgcSghhA",
        "outputId": "35885aac-ef14-43e1-d29a-c2f6b7fe853a"
      },
      "execution_count": 3,
      "outputs": [
        {
          "output_type": "stream",
          "name": "stdout",
          "text": [
            "🔹 전체 샘플 수: 25519개\n",
            "  클래스 0(Center): 4294개 (16.83%)\n",
            "  클래스 1(Donut): 555개 (2.17%)\n",
            "  클래스 2(Edge-Loc): 5189개 (20.33%)\n",
            "  클래스 3(Edge-Ring): 9680개 (37.93%)\n",
            "  클래스 4(Loc): 3593개 (14.08%)\n",
            "  클래스 5(Random): 866개 (3.39%)\n",
            "  클래스 6(Scratch): 1193개 (4.67%)\n",
            "  클래스 7(Near-full): 149개 (0.58%)\n",
            "\n",
            "🟢 학습 데이터 수: 20415개\n",
            "  클래스 0: 3435개 (16.83%)\n",
            "  클래스 1: 444개 (2.17%)\n",
            "  클래스 2: 4151개 (20.33%)\n",
            "  클래스 3: 7744개 (37.93%)\n",
            "  클래스 4: 2874개 (14.08%)\n",
            "  클래스 5: 693개 (3.39%)\n",
            "  클래스 6: 955개 (4.68%)\n",
            "  클래스 7: 119개 (0.58%)\n",
            "\n",
            "🔵 검증 데이터 수: 5104개\n",
            "  클래스 0: 859개 (16.83%)\n",
            "  클래스 1: 111개 (2.17%)\n",
            "  클래스 2: 1038개 (20.34%)\n",
            "  클래스 3: 1936개 (37.93%)\n",
            "  클래스 4: 719개 (14.09%)\n",
            "  클래스 5: 173개 (3.39%)\n",
            "  클래스 6: 238개 (4.66%)\n",
            "  클래스 7: 30개 (0.59%)\n"
          ]
        }
      ]
    },
    {
      "cell_type": "code",
      "source": [
        "# [4단계] 데이터 증강 + WaferDataset 정의 (224×224 + ImageNet 정규화)\n",
        "# 이미지넷 정규화 기준\n",
        "normalize = Normalize(mean=[0.485, 0.456, 0.406],\n",
        "                      std =[0.229, 0.224, 0.225])\n",
        "\n",
        "# 🔁 학습용 데이터 증강 정의\n",
        "train_transform = transforms.Compose([\n",
        "    transforms.ToTensor(),  # numpy → Tensor\n",
        "    transforms.RandomHorizontalFlip(),\n",
        "    transforms.RandomVerticalFlip(),\n",
        "    transforms.RandomRotation(90),\n",
        "    normalize\n",
        "])\n",
        "\n",
        "# 검증용은 증강 없이 정규화만\n",
        "val_transform = transforms.Compose([\n",
        "    transforms.ToTensor(),\n",
        "    normalize\n",
        "])\n",
        "\n",
        "# ✅ WaferDataset 클래스 정의\n",
        "class WaferDataset(Dataset):\n",
        "    def __init__(self, df, transform=None, size=(224, 224)):\n",
        "        self.imgs = df['img'].values\n",
        "        self.labs = df['label'].values.astype(int)\n",
        "        self.transform = transform\n",
        "        self.size = size\n",
        "\n",
        "    def __len__(self):\n",
        "        return len(self.labs)\n",
        "\n",
        "    def __getitem__(self, idx):\n",
        "        # (H, W) → (3, H, W)\n",
        "        x = np.stack([self.imgs[idx]] * 3, axis=2)\n",
        "        x = transforms.ToPILImage()(x)\n",
        "        x = x.resize(self.size)\n",
        "        if self.transform:\n",
        "            x = self.transform(x)\n",
        "\n",
        "        y = torch.tensor(self.labs[idx], dtype=torch.long)\n",
        "        return x, y\n",
        "\n",
        "print(\"✅ 4단계 완료: 데이터셋 클래스 정의 완료\")\n"
      ],
      "metadata": {
        "colab": {
          "base_uri": "https://localhost:8080/"
        },
        "id": "PtNoA6uTeoRn",
        "outputId": "f88ae560-fed9-4e99-9ab3-f2fcbb208a42"
      },
      "execution_count": 4,
      "outputs": [
        {
          "output_type": "stream",
          "name": "stdout",
          "text": [
            "✅ 4단계 완료: 데이터셋 클래스 정의 완료\n"
          ]
        }
      ]
    },
    {
      "cell_type": "code",
      "source": [
        "# [5단계] DataLoader 구성 (학습/검증용 배치로 나누기)\n",
        "# 학습용 데이터로더\n",
        "train_loader = DataLoader(\n",
        "    WaferDataset(train_df, transform=train_transform),\n",
        "    batch_size=32, shuffle=True, num_workers=2\n",
        ")\n",
        "\n",
        "# 검증용 데이터로더\n",
        "val_loader = DataLoader(\n",
        "    WaferDataset(val_df, transform=val_transform),\n",
        "    batch_size=32, shuffle=False, num_workers=2\n",
        ")\n",
        "\n",
        "print(\"✅ 5단계 완료: DataLoader 구성 완료\")\n"
      ],
      "metadata": {
        "colab": {
          "base_uri": "https://localhost:8080/"
        },
        "id": "Ap-60uZjf0Yg",
        "outputId": "d7463da2-1308-4ee9-ed3f-0ca31226efae"
      },
      "execution_count": 5,
      "outputs": [
        {
          "output_type": "stream",
          "name": "stdout",
          "text": [
            "✅ 5단계 완료: DataLoader 구성 완료\n"
          ]
        }
      ]
    },
    {
      "cell_type": "code",
      "source": [
        "# [6단계] EfficientNetV2-S 전체 언프리징 + 옵티마이저 + 스케줄러 설정\n",
        "# EfficientNetV2-S 모델 불러오기 (사전 학습 가중치 포함)\n",
        "model = timm.create_model(\n",
        "    \"tf_efficientnetv2_s_in21k\",  # In21k로 더 풍부한 feature\n",
        "    pretrained=True,\n",
        "    num_classes=8,\n",
        "    drop_rate=0.5  # Dropout으로 과적합 방지\n",
        ").to(device)\n",
        "\n",
        "# ✅ 전체 레이어 언프리징 (fine-tuning 전체 수행)\n",
        "for name, param in model.named_parameters():\n",
        "    param.requires_grad = True  # 전부 학습 가능하게 설정\n",
        "\n",
        "# 손실 함수\n",
        "criterion = nn.CrossEntropyLoss()\n",
        "\n",
        "# 옵티마이저 (모든 파라미터 대상, 학습률 조금 더 낮게)\n",
        "optimizer = torch.optim.AdamW(model.parameters(), lr=3e-5, weight_decay=1e-4)\n",
        "\n",
        "# 스케줄러: 검증 손실 줄어들면 학습률 감소\n",
        "scheduler = torch.optim.lr_scheduler.ReduceLROnPlateau(\n",
        "    optimizer, mode=\"min\", factor=0.5, patience=2, verbose=True\n",
        ")\n",
        "\n",
        "print(\"✅ 6단계 완료: 모델·옵티마이저·스케줄러 설정 완료\")\n"
      ],
      "metadata": {
        "colab": {
          "base_uri": "https://localhost:8080/",
          "height": 67,
          "referenced_widgets": [
            "056019c4c3754cc5a947e0419808a859",
            "86251c7ddfe64fcb837c4f0832814a2b",
            "b7299ff726404b17bd77948b17a58c41",
            "9815aea1885e4d0bad500a90886c3c8f",
            "c68dd6602fd24cd8801cac3008e98a09",
            "98d2c1231ec0459295029094d4b85253",
            "b47cb7f925ed44a9956d49737d04701b",
            "36ee99db04c2498eb9be1bc7b5668528",
            "b06241ce6a7e475387499d32d2b7c0d6",
            "dfdb5d039e2e420bad02aed498ef8ae7",
            "186b54ed0b8b4dffb9737dce5e4f84e4"
          ]
        },
        "id": "BTj6C7kaf24Y",
        "outputId": "9866cee6-5e14-4b20-9318-8f2df2eb22a0"
      },
      "execution_count": 6,
      "outputs": [
        {
          "output_type": "display_data",
          "data": {
            "text/plain": [
              "model.safetensors:   0%|          | 0.00/193M [00:00<?, ?B/s]"
            ],
            "application/vnd.jupyter.widget-view+json": {
              "version_major": 2,
              "version_minor": 0,
              "model_id": "056019c4c3754cc5a947e0419808a859"
            }
          },
          "metadata": {}
        },
        {
          "output_type": "stream",
          "name": "stdout",
          "text": [
            "✅ 6단계 완료: 모델·옵티마이저·스케줄러 설정 완료\n"
          ]
        }
      ]
    },
    {
      "cell_type": "code",
      "source": [
        "# [7단계] 훈련 루프 (EarlyStopping 포함, 저장 X)\n",
        "EPOCHS = 20\n",
        "best_val_acc = 0.0\n",
        "patience = 5\n",
        "wait = 0\n",
        "\n",
        "for epoch in range(1, EPOCHS + 1):\n",
        "    # 🔹 학습 단계\n",
        "    model.train()\n",
        "    t_loss, t_corr = 0.0, 0\n",
        "    for imgs, labels in train_loader:\n",
        "        imgs, labels = imgs.to(device), labels.to(device)\n",
        "        optimizer.zero_grad()\n",
        "        out = model(imgs)\n",
        "        loss = criterion(out, labels)\n",
        "        loss.backward()\n",
        "        optimizer.step()\n",
        "        t_loss += loss.item() * labels.size(0)\n",
        "        t_corr += (out.argmax(1) == labels).sum().item()\n",
        "\n",
        "    train_loss = t_loss / len(train_df)\n",
        "    train_acc = t_corr / len(train_df) * 100\n",
        "\n",
        "    # 🔵 검증 단계\n",
        "    model.eval()\n",
        "    v_loss, v_corr, v_cnt = 0.0, 0, 0\n",
        "    y_true, y_pred = [], []\n",
        "    with torch.no_grad():\n",
        "        for imgs, labels in val_loader:\n",
        "            imgs, labels = imgs.to(device), labels.to(device)\n",
        "            out = model(imgs)\n",
        "            loss = criterion(out, labels)\n",
        "            v_loss += loss.item() * labels.size(0)\n",
        "            v_corr += (out.argmax(1) == labels).sum().item()\n",
        "            v_cnt += labels.size(0)\n",
        "            y_true.extend(labels.cpu().numpy())\n",
        "            y_pred.extend(out.argmax(1).cpu().numpy())\n",
        "\n",
        "    val_loss = v_loss / v_cnt\n",
        "    val_acc = v_corr / v_cnt * 100\n",
        "    scheduler.step(val_loss)\n",
        "\n",
        "    print(f\"[{epoch:02d}] 🔹 Train Loss: {train_loss:.4f} | Acc: {train_acc:.2f}%  ||  🔵 Val Loss: {val_loss:.4f} | Acc: {val_acc:.2f}%\")\n",
        "\n",
        "    # EarlyStopping 조건 체크\n",
        "    if val_acc > best_val_acc:\n",
        "        best_val_acc = val_acc\n",
        "        wait = 0\n",
        "        print(\"✅ 성능 향상 → EarlyStopping 카운터 초기화\")\n",
        "    else:\n",
        "        wait += 1\n",
        "        print(f\"⚠️ EarlyStopping 경고: {wait}/{patience} 회\")\n",
        "        if wait >= patience:\n",
        "            print(f\"⛔ EarlyStopping 작동! {epoch}번째 에포크에서 중단\")\n",
        "            break\n"
      ],
      "metadata": {
        "id": "DQaQldnTf8bv",
        "colab": {
          "base_uri": "https://localhost:8080/"
        },
        "outputId": "f4a427e6-44cf-4f37-887d-add8040fc14e"
      },
      "execution_count": 7,
      "outputs": [
        {
          "output_type": "stream",
          "name": "stdout",
          "text": [
            "[01] 🔹 Train Loss: 3.1588 | Acc: 57.31%  ||  🔵 Val Loss: 0.8432 | Acc: 72.94%\n",
            "✅ 성능 향상 → EarlyStopping 카운터 초기화\n",
            "[02] 🔹 Train Loss: 0.7642 | Acc: 75.05%  ||  🔵 Val Loss: 0.4975 | Acc: 80.98%\n",
            "✅ 성능 향상 → EarlyStopping 카운터 초기화\n",
            "[03] 🔹 Train Loss: 0.5034 | Acc: 82.42%  ||  🔵 Val Loss: 0.3619 | Acc: 86.17%\n",
            "✅ 성능 향상 → EarlyStopping 카운터 초기화\n",
            "[04] 🔹 Train Loss: 0.3747 | Acc: 86.79%  ||  🔵 Val Loss: 0.3369 | Acc: 87.25%\n",
            "✅ 성능 향상 → EarlyStopping 카운터 초기화\n",
            "[05] 🔹 Train Loss: 0.3092 | Acc: 89.19%  ||  🔵 Val Loss: 0.2601 | Acc: 90.24%\n",
            "✅ 성능 향상 → EarlyStopping 카운터 초기화\n",
            "[06] 🔹 Train Loss: 0.2606 | Acc: 90.86%  ||  🔵 Val Loss: 0.2349 | Acc: 91.59%\n",
            "✅ 성능 향상 → EarlyStopping 카운터 초기화\n",
            "[07] 🔹 Train Loss: 0.2342 | Acc: 91.65%  ||  🔵 Val Loss: 0.2653 | Acc: 90.56%\n",
            "⚠️ EarlyStopping 경고: 1/5 회\n",
            "[08] 🔹 Train Loss: 0.2209 | Acc: 92.15%  ||  🔵 Val Loss: 0.2235 | Acc: 92.22%\n",
            "✅ 성능 향상 → EarlyStopping 카운터 초기화\n",
            "[09] 🔹 Train Loss: 0.2045 | Acc: 92.82%  ||  🔵 Val Loss: 0.2190 | Acc: 91.97%\n",
            "⚠️ EarlyStopping 경고: 1/5 회\n",
            "[10] 🔹 Train Loss: 0.1816 | Acc: 93.39%  ||  🔵 Val Loss: 0.2099 | Acc: 92.55%\n",
            "✅ 성능 향상 → EarlyStopping 카운터 초기화\n",
            "[11] 🔹 Train Loss: 0.1761 | Acc: 93.61%  ||  🔵 Val Loss: 0.1815 | Acc: 92.87%\n",
            "✅ 성능 향상 → EarlyStopping 카운터 초기화\n",
            "[12] 🔹 Train Loss: 0.1660 | Acc: 94.05%  ||  🔵 Val Loss: 0.1851 | Acc: 93.63%\n",
            "✅ 성능 향상 → EarlyStopping 카운터 초기화\n",
            "[13] 🔹 Train Loss: 0.1578 | Acc: 94.29%  ||  🔵 Val Loss: 0.1799 | Acc: 93.48%\n",
            "⚠️ EarlyStopping 경고: 1/5 회\n",
            "[14] 🔹 Train Loss: 0.1498 | Acc: 94.52%  ||  🔵 Val Loss: 0.1669 | Acc: 93.67%\n",
            "✅ 성능 향상 → EarlyStopping 카운터 초기화\n",
            "[15] 🔹 Train Loss: 0.1396 | Acc: 94.73%  ||  🔵 Val Loss: 0.1731 | Acc: 93.77%\n",
            "✅ 성능 향상 → EarlyStopping 카운터 초기화\n",
            "[16] 🔹 Train Loss: 0.1374 | Acc: 95.11%  ||  🔵 Val Loss: 0.1646 | Acc: 93.99%\n",
            "✅ 성능 향상 → EarlyStopping 카운터 초기화\n",
            "[17] 🔹 Train Loss: 0.1355 | Acc: 95.12%  ||  🔵 Val Loss: 0.1663 | Acc: 93.81%\n",
            "⚠️ EarlyStopping 경고: 1/5 회\n",
            "[18] 🔹 Train Loss: 0.1297 | Acc: 95.14%  ||  🔵 Val Loss: 0.1544 | Acc: 94.28%\n",
            "✅ 성능 향상 → EarlyStopping 카운터 초기화\n",
            "[19] 🔹 Train Loss: 0.1213 | Acc: 95.45%  ||  🔵 Val Loss: 0.1972 | Acc: 93.22%\n",
            "⚠️ EarlyStopping 경고: 1/5 회\n",
            "[20] 🔹 Train Loss: 0.1232 | Acc: 95.49%  ||  🔵 Val Loss: 0.1705 | Acc: 93.79%\n",
            "⚠️ EarlyStopping 경고: 2/5 회\n"
          ]
        }
      ]
    },
    {
      "cell_type": "code",
      "source": [
        "# [8단계] 최종 평가 (검증셋 전체 예측 결과 확인)\n",
        "# 평가 모드 전환\n",
        "model.eval()\n",
        "y_true, y_pred = [], []\n",
        "\n",
        "# 검증셋 전체에 대해 예측 수행\n",
        "with torch.no_grad():\n",
        "    for imgs, labels in val_loader:\n",
        "        imgs, labels = imgs.to(device), labels.to(device)\n",
        "        out = model(imgs)\n",
        "        preds = out.argmax(1)\n",
        "        y_true.extend(labels.cpu().numpy())\n",
        "        y_pred.extend(preds.cpu().numpy())\n",
        "\n",
        "# 분류 리포트 출력\n",
        "from sklearn.metrics import classification_report, confusion_matrix\n",
        "\n",
        "print(\"\\n🔎 Classification Report\")\n",
        "print(classification_report(y_true, y_pred, digits=4))\n"
      ],
      "metadata": {
        "id": "j6a3cCcGgELH",
        "colab": {
          "base_uri": "https://localhost:8080/"
        },
        "outputId": "72aa1ef2-beb6-44ab-f9a4-d50e5d98613d"
      },
      "execution_count": 8,
      "outputs": [
        {
          "output_type": "stream",
          "name": "stdout",
          "text": [
            "\n",
            "🔎 Classification Report\n",
            "              precision    recall  f1-score   support\n",
            "\n",
            "           0     0.9676    0.9721    0.9698       859\n",
            "           1     0.8761    0.8919    0.8839       111\n",
            "           2     0.9018    0.9027    0.9023      1038\n",
            "           3     0.9556    0.9892    0.9721      1936\n",
            "           4     0.9001    0.8526    0.8757       719\n",
            "           5     0.9461    0.9133    0.9294       173\n",
            "           6     0.9663    0.8445    0.9013       238\n",
            "           7     1.0000    0.9667    0.9831        30\n",
            "\n",
            "    accuracy                         0.9379      5104\n",
            "   macro avg     0.9392    0.9166    0.9272      5104\n",
            "weighted avg     0.9376    0.9379    0.9373      5104\n",
            "\n"
          ]
        }
      ]
    },
    {
      "cell_type": "code",
      "source": [
        "# [9단계] 혼동 행렬 시각화 (Raw + 정규화)\n",
        "# 혼동 행렬 계산\n",
        "cm = confusion_matrix(y_true, y_pred)\n",
        "cm_norm = (cm.astype(float) / cm.sum(axis=1)[:, None]).round(3)\n",
        "\n",
        "print(\"\\n📊 Confusion Matrix (Raw):\\n\", cm)\n",
        "print(\"\\n📊 Confusion Matrix (Normalized):\\n\", cm_norm)\n",
        "\n",
        "# 클래스 이름 리스트 (역매핑)\n",
        "class_names = [reverse_map[i] for i in sorted(reverse_map)]\n",
        "\n",
        "# 시각화\n",
        "plt.figure(figsize=(12, 5))\n",
        "\n",
        "# 🔵 원본 행렬\n",
        "plt.subplot(1, 2, 1)\n",
        "sns.heatmap(cm, annot=True, fmt=\"d\", cmap=\"Blues\",\n",
        "            xticklabels=class_names, yticklabels=class_names)\n",
        "plt.title(\"Raw Confusion Matrix\")\n",
        "plt.xlabel(\"Predicted Label\"); plt.ylabel(\"True Label\")\n",
        "\n",
        "# 🟢 정규화 행렬\n",
        "plt.subplot(1, 2, 2)\n",
        "sns.heatmap(cm_norm, annot=True, fmt=\".2f\", cmap=\"YlGnBu\",\n",
        "            xticklabels=class_names, yticklabels=class_names)\n",
        "plt.title(\"Normalized Confusion Matrix\")\n",
        "plt.xlabel(\"Predicted Label\"); plt.ylabel(\"True Label\")\n",
        "\n",
        "plt.tight_layout()\n",
        "plt.show()\n"
      ],
      "metadata": {
        "id": "kKG522o2gHmP",
        "colab": {
          "base_uri": "https://localhost:8080/",
          "height": 870
        },
        "outputId": "01693e61-875e-40bc-9be0-2760d4752286"
      },
      "execution_count": 9,
      "outputs": [
        {
          "output_type": "stream",
          "name": "stdout",
          "text": [
            "\n",
            "📊 Confusion Matrix (Raw):\n",
            " [[ 835    3    3    9    8    1    0    0]\n",
            " [   5   99    1    1    5    0    0    0]\n",
            " [   1    0  937   71   25    3    1    0]\n",
            " [   1    0   16 1915    2    1    1    0]\n",
            " [  20    9   65    5  613    2    5    0]\n",
            " [   1    2    5    2    5  158    0    0]\n",
            " [   0    0   12    1   23    1  201    0]\n",
            " [   0    0    0    0    0    1    0   29]]\n",
            "\n",
            "📊 Confusion Matrix (Normalized):\n",
            " [[0.972 0.003 0.003 0.01  0.009 0.001 0.    0.   ]\n",
            " [0.045 0.892 0.009 0.009 0.045 0.    0.    0.   ]\n",
            " [0.001 0.    0.903 0.068 0.024 0.003 0.001 0.   ]\n",
            " [0.001 0.    0.008 0.989 0.001 0.001 0.001 0.   ]\n",
            " [0.028 0.013 0.09  0.007 0.853 0.003 0.007 0.   ]\n",
            " [0.006 0.012 0.029 0.012 0.029 0.913 0.    0.   ]\n",
            " [0.    0.    0.05  0.004 0.097 0.004 0.845 0.   ]\n",
            " [0.    0.    0.    0.    0.    0.033 0.    0.967]]\n"
          ]
        },
        {
          "output_type": "display_data",
          "data": {
            "text/plain": [
              "<Figure size 1200x500 with 4 Axes>"
            ],
            "image/png": "[encoded data removed]"
          },
          "metadata": {}
        }
      ]
    }
  ]
}