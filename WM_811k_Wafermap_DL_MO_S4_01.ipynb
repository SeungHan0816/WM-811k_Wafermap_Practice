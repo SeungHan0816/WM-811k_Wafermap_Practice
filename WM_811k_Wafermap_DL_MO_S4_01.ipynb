{
  "nbformat": 4,
  "nbformat_minor": 0,
  "metadata": {
    "colab": {
      "provenance": [],
      "gpuType": "T4",
      "authorship_tag": "ABX9TyM1/EkPUKm9QA+c6zbHCHDm",
      "include_colab_link": true
    },
    "kernelspec": {
      "name": "python3",
      "display_name": "Python 3"
    },
    "language_info": {
      "name": "python"
    },
    "accelerator": "GPU",
    "widgets": {
      "application/vnd.jupyter.widget-state+json": {
        "df95a06d395d4193b6268a4ebac09bec": {
          "model_module": "@jupyter-widgets/controls",
          "model_name": "HBoxModel",
          "model_module_version": "1.5.0",
          "state": {
            "_dom_classes": [],
            "_model_module": "@jupyter-widgets/controls",
            "_model_module_version": "1.5.0",
            "_model_name": "HBoxModel",
            "_view_count": null,
            "_view_module": "@jupyter-widgets/controls",
            "_view_module_version": "1.5.0",
            "_view_name": "HBoxView",
            "box_style": "",
            "children": [
              "IPY_MODEL_c8c6bf58aa8147f993995bd66e897bf6",
              "IPY_MODEL_9d1ece9d547b4b23aa9417646fa0dfd1",
              "IPY_MODEL_782a2949292f43b1b1ba2b3937b26412"
            ],
            "layout": "IPY_MODEL_a695d345d74649d2bd5f200b6d64083e"
          }
        },
        "c8c6bf58aa8147f993995bd66e897bf6": {
          "model_module": "@jupyter-widgets/controls",
          "model_name": "HTMLModel",
          "model_module_version": "1.5.0",
          "state": {
            "_dom_classes": [],
            "_model_module": "@jupyter-widgets/controls",
            "_model_module_version": "1.5.0",
            "_model_name": "HTMLModel",
            "_view_count": null,
            "_view_module": "@jupyter-widgets/controls",
            "_view_module_version": "1.5.0",
            "_view_name": "HTMLView",
            "description": "",
            "description_tooltip": null,
            "layout": "IPY_MODEL_1d8a3ea0de5d41a08381ca9bb53b4276",
            "placeholder": "​",
            "style": "IPY_MODEL_8dd4604edf8742418ad250f69bd38ffe",
            "value": "model.safetensors: 100%"
          }
        },
        "9d1ece9d547b4b23aa9417646fa0dfd1": {
          "model_module": "@jupyter-widgets/controls",
          "model_name": "FloatProgressModel",
          "model_module_version": "1.5.0",
          "state": {
            "_dom_classes": [],
            "_model_module": "@jupyter-widgets/controls",
            "_model_module_version": "1.5.0",
            "_model_name": "FloatProgressModel",
            "_view_count": null,
            "_view_module": "@jupyter-widgets/controls",
            "_view_module_version": "1.5.0",
            "_view_name": "ProgressView",
            "bar_style": "success",
            "description": "",
            "description_tooltip": null,
            "layout": "IPY_MODEL_be108115fca047daa9888d7ca410e095",
            "max": 60377552,
            "min": 0,
            "orientation": "horizontal",
            "style": "IPY_MODEL_b1f63f151a5147eeb3ab2121ce059d3e",
            "value": 60377552
          }
        },
        "782a2949292f43b1b1ba2b3937b26412": {
          "model_module": "@jupyter-widgets/controls",
          "model_name": "HTMLModel",
          "model_module_version": "1.5.0",
          "state": {
            "_dom_classes": [],
            "_model_module": "@jupyter-widgets/controls",
            "_model_module_version": "1.5.0",
            "_model_name": "HTMLModel",
            "_view_count": null,
            "_view_module": "@jupyter-widgets/controls",
            "_view_module_version": "1.5.0",
            "_view_name": "HTMLView",
            "description": "",
            "description_tooltip": null,
            "layout": "IPY_MODEL_17e180f4e0ea4575b844d494ad87f26b",
            "placeholder": "​",
            "style": "IPY_MODEL_85378a8b59f5474a8d7f0c16d7a41cbc",
            "value": " 60.4M/60.4M [00:00&lt;00:00, 95.1MB/s]"
          }
        },
        "a695d345d74649d2bd5f200b6d64083e": {
          "model_module": "@jupyter-widgets/base",
          "model_name": "LayoutModel",
          "model_module_version": "1.2.0",
          "state": {
            "_model_module": "@jupyter-widgets/base",
            "_model_module_version": "1.2.0",
            "_model_name": "LayoutModel",
            "_view_count": null,
            "_view_module": "@jupyter-widgets/base",
            "_view_module_version": "1.2.0",
            "_view_name": "LayoutView",
            "align_content": null,
            "align_items": null,
            "align_self": null,
            "border": null,
            "bottom": null,
            "display": null,
            "flex": null,
            "flex_flow": null,
            "grid_area": null,
            "grid_auto_columns": null,
            "grid_auto_flow": null,
            "grid_auto_rows": null,
            "grid_column": null,
            "grid_gap": null,
            "grid_row": null,
            "grid_template_areas": null,
            "grid_template_columns": null,
            "grid_template_rows": null,
            "height": null,
            "justify_content": null,
            "justify_items": null,
            "left": null,
            "margin": null,
            "max_height": null,
            "max_width": null,
            "min_height": null,
            "min_width": null,
            "object_fit": null,
            "object_position": null,
            "order": null,
            "overflow": null,
            "overflow_x": null,
            "overflow_y": null,
            "padding": null,
            "right": null,
            "top": null,
            "visibility": null,
            "width": null
          }
        },
        "1d8a3ea0de5d41a08381ca9bb53b4276": {
          "model_module": "@jupyter-widgets/base",
          "model_name": "LayoutModel",
          "model_module_version": "1.2.0",
          "state": {
            "_model_module": "@jupyter-widgets/base",
            "_model_module_version": "1.2.0",
            "_model_name": "LayoutModel",
            "_view_count": null,
            "_view_module": "@jupyter-widgets/base",
            "_view_module_version": "1.2.0",
            "_view_name": "LayoutView",
            "align_content": null,
            "align_items": null,
            "align_self": null,
            "border": null,
            "bottom": null,
            "display": null,
            "flex": null,
            "flex_flow": null,
            "grid_area": null,
            "grid_auto_columns": null,
            "grid_auto_flow": null,
            "grid_auto_rows": null,
            "grid_column": null,
            "grid_gap": null,
            "grid_row": null,
            "grid_template_areas": null,
            "grid_template_columns": null,
            "grid_template_rows": null,
            "height": null,
            "justify_content": null,
            "justify_items": null,
            "left": null,
            "margin": null,
            "max_height": null,
            "max_width": null,
            "min_height": null,
            "min_width": null,
            "object_fit": null,
            "object_position": null,
            "order": null,
            "overflow": null,
            "overflow_x": null,
            "overflow_y": null,
            "padding": null,
            "right": null,
            "top": null,
            "visibility": null,
            "width": null
          }
        },
        "8dd4604edf8742418ad250f69bd38ffe": {
          "model_module": "@jupyter-widgets/controls",
          "model_name": "DescriptionStyleModel",
          "model_module_version": "1.5.0",
          "state": {
            "_model_module": "@jupyter-widgets/controls",
            "_model_module_version": "1.5.0",
            "_model_name": "DescriptionStyleModel",
            "_view_count": null,
            "_view_module": "@jupyter-widgets/base",
            "_view_module_version": "1.2.0",
            "_view_name": "StyleView",
            "description_width": ""
          }
        },
        "be108115fca047daa9888d7ca410e095": {
          "model_module": "@jupyter-widgets/base",
          "model_name": "LayoutModel",
          "model_module_version": "1.2.0",
          "state": {
            "_model_module": "@jupyter-widgets/base",
            "_model_module_version": "1.2.0",
            "_model_name": "LayoutModel",
            "_view_count": null,
            "_view_module": "@jupyter-widgets/base",
            "_view_module_version": "1.2.0",
            "_view_name": "LayoutView",
            "align_content": null,
            "align_items": null,
            "align_self": null,
            "border": null,
            "bottom": null,
            "display": null,
            "flex": null,
            "flex_flow": null,
            "grid_area": null,
            "grid_auto_columns": null,
            "grid_auto_flow": null,
            "grid_auto_rows": null,
            "grid_column": null,
            "grid_gap": null,
            "grid_row": null,
            "grid_template_areas": null,
            "grid_template_columns": null,
            "grid_template_rows": null,
            "height": null,
            "justify_content": null,
            "justify_items": null,
            "left": null,
            "margin": null,
            "max_height": null,
            "max_width": null,
            "min_height": null,
            "min_width": null,
            "object_fit": null,
            "object_position": null,
            "order": null,
            "overflow": null,
            "overflow_x": null,
            "overflow_y": null,
            "padding": null,
            "right": null,
            "top": null,
            "visibility": null,
            "width": null
          }
        },
        "b1f63f151a5147eeb3ab2121ce059d3e": {
          "model_module": "@jupyter-widgets/controls",
          "model_name": "ProgressStyleModel",
          "model_module_version": "1.5.0",
          "state": {
            "_model_module": "@jupyter-widgets/controls",
            "_model_module_version": "1.5.0",
            "_model_name": "ProgressStyleModel",
            "_view_count": null,
            "_view_module": "@jupyter-widgets/base",
            "_view_module_version": "1.2.0",
            "_view_name": "StyleView",
            "bar_color": null,
            "description_width": ""
          }
        },
        "17e180f4e0ea4575b844d494ad87f26b": {
          "model_module": "@jupyter-widgets/base",
          "model_name": "LayoutModel",
          "model_module_version": "1.2.0",
          "state": {
            "_model_module": "@jupyter-widgets/base",
            "_model_module_version": "1.2.0",
            "_model_name": "LayoutModel",
            "_view_count": null,
            "_view_module": "@jupyter-widgets/base",
            "_view_module_version": "1.2.0",
            "_view_name": "LayoutView",
            "align_content": null,
            "align_items": null,
            "align_self": null,
            "border": null,
            "bottom": null,
            "display": null,
            "flex": null,
            "flex_flow": null,
            "grid_area": null,
            "grid_auto_columns": null,
            "grid_auto_flow": null,
            "grid_auto_rows": null,
            "grid_column": null,
            "grid_gap": null,
            "grid_row": null,
            "grid_template_areas": null,
            "grid_template_columns": null,
            "grid_template_rows": null,
            "height": null,
            "justify_content": null,
            "justify_items": null,
            "left": null,
            "margin": null,
            "max_height": null,
            "max_width": null,
            "min_height": null,
            "min_width": null,
            "object_fit": null,
            "object_position": null,
            "order": null,
            "overflow": null,
            "overflow_x": null,
            "overflow_y": null,
            "padding": null,
            "right": null,
            "top": null,
            "visibility": null,
            "width": null
          }
        },
        "85378a8b59f5474a8d7f0c16d7a41cbc": {
          "model_module": "@jupyter-widgets/controls",
          "model_name": "DescriptionStyleModel",
          "model_module_version": "1.5.0",
          "state": {
            "_model_module": "@jupyter-widgets/controls",
            "_model_module_version": "1.5.0",
            "_model_name": "DescriptionStyleModel",
            "_view_count": null,
            "_view_module": "@jupyter-widgets/base",
            "_view_module_version": "1.2.0",
            "_view_name": "StyleView",
            "description_width": ""
          }
        }
      }
    }
  },
  "cells": [
    {
      "cell_type": "markdown",
      "metadata": {
        "id": "view-in-github",
        "colab_type": "text"
      },
      "source": [
        "<a href=\"https://colab.research.google.com/github/SeungHan0816/WM-811k_Wafermap_Practice/blob/main/WM_811k_Wafermap_DL_MO_S4_01.ipynb\" target=\"_parent\"><img src=\"https://colab.research.google.com/assets/colab-badge.svg\" alt=\"Open In Colab\"/></a>"
      ]
    },
    {
      "cell_type": "code",
      "execution_count": null,
      "metadata": {
        "colab": {
          "base_uri": "https://localhost:8080/"
        },
        "id": "VumVm9BCOGZR",
        "outputId": "98f43031-b748-4f33-be72-2b739e7d7d75"
      },
      "outputs": [
        {
          "output_type": "stream",
          "name": "stdout",
          "text": [
            "\u001b[2K   \u001b[90m━━━━━━━━━━━━━━━━━━━━━━━━━━━━━━━━━━━━━━━━\u001b[0m \u001b[32m363.4/363.4 MB\u001b[0m \u001b[31m4.2 MB/s\u001b[0m eta \u001b[36m0:00:00\u001b[0m\n",
            "\u001b[2K   \u001b[90m━━━━━━━━━━━━━━━━━━━━━━━━━━━━━━━━━━━━━━━━\u001b[0m \u001b[32m13.8/13.8 MB\u001b[0m \u001b[31m114.8 MB/s\u001b[0m eta \u001b[36m0:00:00\u001b[0m\n",
            "\u001b[2K   \u001b[90m━━━━━━━━━━━━━━━━━━━━━━━━━━━━━━━━━━━━━━━━\u001b[0m \u001b[32m24.6/24.6 MB\u001b[0m \u001b[31m93.6 MB/s\u001b[0m eta \u001b[36m0:00:00\u001b[0m\n",
            "\u001b[2K   \u001b[90m━━━━━━━━━━━━━━━━━━━━━━━━━━━━━━━━━━━━━━━━\u001b[0m \u001b[32m883.7/883.7 kB\u001b[0m \u001b[31m59.9 MB/s\u001b[0m eta \u001b[36m0:00:00\u001b[0m\n",
            "\u001b[2K   \u001b[90m━━━━━━━━━━━━━━━━━━━━━━━━━━━━━━━━━━━━━━━━\u001b[0m \u001b[32m664.8/664.8 MB\u001b[0m \u001b[31m1.6 MB/s\u001b[0m eta \u001b[36m0:00:00\u001b[0m\n",
            "\u001b[2K   \u001b[90m━━━━━━━━━━━━━━━━━━━━━━━━━━━━━━━━━━━━━━━━\u001b[0m \u001b[32m211.5/211.5 MB\u001b[0m \u001b[31m5.4 MB/s\u001b[0m eta \u001b[36m0:00:00\u001b[0m\n",
            "\u001b[2K   \u001b[90m━━━━━━━━━━━━━━━━━━━━━━━━━━━━━━━━━━━━━━━━\u001b[0m \u001b[32m56.3/56.3 MB\u001b[0m \u001b[31m12.3 MB/s\u001b[0m eta \u001b[36m0:00:00\u001b[0m\n",
            "\u001b[2K   \u001b[90m━━━━━━━━━━━━━━━━━━━━━━━━━━━━━━━━━━━━━━━━\u001b[0m \u001b[32m127.9/127.9 MB\u001b[0m \u001b[31m7.9 MB/s\u001b[0m eta \u001b[36m0:00:00\u001b[0m\n",
            "\u001b[2K   \u001b[90m━━━━━━━━━━━━━━━━━━━━━━━━━━━━━━━━━━━━━━━━\u001b[0m \u001b[32m207.5/207.5 MB\u001b[0m \u001b[31m5.4 MB/s\u001b[0m eta \u001b[36m0:00:00\u001b[0m\n",
            "\u001b[2K   \u001b[90m━━━━━━━━━━━━━━━━━━━━━━━━━━━━━━━━━━━━━━━━\u001b[0m \u001b[32m21.1/21.1 MB\u001b[0m \u001b[31m101.5 MB/s\u001b[0m eta \u001b[36m0:00:00\u001b[0m\n",
            "\u001b[?25h✅ Using device: cuda\n"
          ]
        }
      ],
      "source": [
        "# MobileOne-S4 딥러닝 알고리즘 사용\n",
        "\n",
        "# 1단계. 라이브러리 및 환경 설정\n",
        "\n",
        "!pip install kagglehub timm --quiet\n",
        "\n",
        "import os\n",
        "import warnings\n",
        "import kagglehub\n",
        "import numpy as np\n",
        "import pandas as pd\n",
        "import torch\n",
        "import torch.nn as nn\n",
        "from torch.utils.data import Dataset, DataLoader, WeightedRandomSampler\n",
        "from sklearn.model_selection import train_test_split\n",
        "from sklearn.metrics import classification_report, confusion_matrix\n",
        "from skimage.transform import resize\n",
        "import timm\n",
        "import matplotlib.pyplot as plt\n",
        "import seaborn as sns\n",
        "\n",
        "warnings.filterwarnings(\"ignore\")\n",
        "device = torch.device(\"cuda\" if torch.cuda.is_available() else \"cpu\")\n",
        "print(f\"✅ Using device: {device}\")\n"
      ]
    },
    {
      "cell_type": "code",
      "source": [
        "# 2단계. 데이터 로딩 및 전처리\n",
        "\n",
        "path = kagglehub.dataset_download('qingyi/wm811k-wafer-map')\n",
        "df = pd.read_pickle(os.path.join(path, \"LSWMD.pkl\"))\n",
        "\n",
        "def safe_extract_failure_type(x):\n",
        "    while isinstance(x, (list, np.ndarray)):\n",
        "        if isinstance(x, np.ndarray) and x.shape == ():\n",
        "            x = x.item(); continue\n",
        "        if len(x) == 0:\n",
        "            return 'none'\n",
        "        x = x[0]\n",
        "    return x if isinstance(x, str) else str(x)\n",
        "\n",
        "df['failureType'] = df['failureType'].apply(safe_extract_failure_type)\n",
        "failure_map = {\n",
        "    'Center':0, 'Donut':1, 'Edge-Loc':2, 'Edge-Ring':3,\n",
        "    'Loc':4, 'Random':5, 'Scratch':6, 'Near-full':7,\n",
        "    'none':8\n",
        "}\n",
        "df['label'] = df['failureType'].map(failure_map)\n",
        "df = df[df['label'] != 8].reset_index(drop=True)\n",
        "df.drop(columns=['waferIndex', 'lotName', 'trianTestLabel'], errors='ignore', inplace=True)\n",
        "print(\"✅ 데이터 전처리 완료\")\n"
      ],
      "metadata": {
        "colab": {
          "base_uri": "https://localhost:8080/"
        },
        "id": "S-pFo6cfOVfO",
        "outputId": "ef4d8de1-cbaa-4dc7-9c95-4bb23cb97ba0"
      },
      "execution_count": null,
      "outputs": [
        {
          "output_type": "stream",
          "name": "stdout",
          "text": [
            "✅ 데이터 전처리 완료\n"
          ]
        }
      ]
    },
    {
      "cell_type": "code",
      "source": [
        "# 3단계. Custom Dataset 정의\n",
        "\n",
        "class WaferDataset(Dataset):\n",
        "    def __init__(self, df):\n",
        "        self.maps = df['waferMap'].values\n",
        "        self.labels = df['label'].values\n",
        "\n",
        "    def __len__(self):\n",
        "        return len(self.labels)\n",
        "\n",
        "    def __getitem__(self, idx):\n",
        "        img = self.maps[idx].astype(np.float32)\n",
        "        img = resize(img, (128, 128), order=0, preserve_range=True).astype(np.float32)\n",
        "        img = np.repeat(img[None], 3, axis=0) / 2.0\n",
        "        return torch.tensor(img), torch.tensor(self.labels[idx], dtype=torch.long)\n"
      ],
      "metadata": {
        "id": "OaDq6VHpOYse"
      },
      "execution_count": null,
      "outputs": []
    },
    {
      "cell_type": "code",
      "source": [
        "# 4단계. 데이터 분할 및 클래스 통계 + 샘플링\n",
        "\n",
        "train_df, test_df = train_test_split(df, test_size=0.2, stratify=df['label'], random_state=42)\n",
        "\n",
        "def print_stats(df, name):\n",
        "    print(f\"\\n{name} 데이터 수: {len(df)}개\")\n",
        "    for l, c in df['label'].value_counts().sort_index().items():\n",
        "        print(f\"  클래스 {l}: {c}개 ({c/len(df)*100:.2f}%)\")\n",
        "\n",
        "print(f\"🔹 전체 샘플 수: {len(df)}개\")\n",
        "print_stats(df, \"전체\")\n",
        "print_stats(train_df, \"🟢 학습\")\n",
        "print_stats(test_df, \"🔵 테스트\")\n",
        "\n",
        "label_counts = np.bincount(train_df['label'])\n",
        "class_weights = 1.0 / label_counts\n",
        "sample_weights = class_weights[train_df['label'].values]\n",
        "sampler = WeightedRandomSampler(sample_weights, num_samples=len(sample_weights), replacement=True)\n",
        "\n",
        "train_loader = DataLoader(WaferDataset(train_df), batch_size=16, sampler=sampler)\n",
        "test_loader = DataLoader(WaferDataset(test_df), batch_size=16, shuffle=False)\n",
        "\n",
        "print(\"✅ DataLoader 구성 완료\")\n"
      ],
      "metadata": {
        "colab": {
          "base_uri": "https://localhost:8080/"
        },
        "id": "8dur_tsQOY8G",
        "outputId": "8fcef9ab-fb6a-4819-b979-dc453ca3c17c"
      },
      "execution_count": null,
      "outputs": [
        {
          "output_type": "stream",
          "name": "stdout",
          "text": [
            "🔹 전체 샘플 수: 25519개\n",
            "\n",
            "전체 데이터 수: 25519개\n",
            "  클래스 0: 4294개 (16.83%)\n",
            "  클래스 1: 555개 (2.17%)\n",
            "  클래스 2: 5189개 (20.33%)\n",
            "  클래스 3: 9680개 (37.93%)\n",
            "  클래스 4: 3593개 (14.08%)\n",
            "  클래스 5: 866개 (3.39%)\n",
            "  클래스 6: 1193개 (4.67%)\n",
            "  클래스 7: 149개 (0.58%)\n",
            "\n",
            "🟢 학습 데이터 수: 20415개\n",
            "  클래스 0: 3435개 (16.83%)\n",
            "  클래스 1: 444개 (2.17%)\n",
            "  클래스 2: 4151개 (20.33%)\n",
            "  클래스 3: 7744개 (37.93%)\n",
            "  클래스 4: 2874개 (14.08%)\n",
            "  클래스 5: 693개 (3.39%)\n",
            "  클래스 6: 955개 (4.68%)\n",
            "  클래스 7: 119개 (0.58%)\n",
            "\n",
            "🔵 테스트 데이터 수: 5104개\n",
            "  클래스 0: 859개 (16.83%)\n",
            "  클래스 1: 111개 (2.17%)\n",
            "  클래스 2: 1038개 (20.34%)\n",
            "  클래스 3: 1936개 (37.93%)\n",
            "  클래스 4: 719개 (14.09%)\n",
            "  클래스 5: 173개 (3.39%)\n",
            "  클래스 6: 238개 (4.66%)\n",
            "  클래스 7: 30개 (0.59%)\n",
            "✅ DataLoader 구성 완료\n"
          ]
        }
      ]
    },
    {
      "cell_type": "code",
      "source": [
        "# 5단계. MobileOne-S4 모델 정의 (Dropout 포함, 수동 설정)\n",
        "\n",
        "model = timm.create_model('mobileone_s4', pretrained=True)\n",
        "\n",
        "# 기존 분류기 출력 차원 가져오기\n",
        "in_features = model.get_classifier().in_features\n",
        "\n",
        "# Dropout 포함하여 새로 구성\n",
        "model.fc = nn.Sequential(\n",
        "    nn.Dropout(p=0.5),\n",
        "    nn.Linear(in_features, 8)  # 8개 클래스\n",
        ")\n",
        "\n",
        "model = model.to(device)\n",
        "print(\"✅ MobileOne-S4 모델 생성 완료 (Dropout 포함)\")\n"
      ],
      "metadata": {
        "colab": {
          "base_uri": "https://localhost:8080/",
          "height": 67,
          "referenced_widgets": [
            "df95a06d395d4193b6268a4ebac09bec",
            "c8c6bf58aa8147f993995bd66e897bf6",
            "9d1ece9d547b4b23aa9417646fa0dfd1",
            "782a2949292f43b1b1ba2b3937b26412",
            "a695d345d74649d2bd5f200b6d64083e",
            "1d8a3ea0de5d41a08381ca9bb53b4276",
            "8dd4604edf8742418ad250f69bd38ffe",
            "be108115fca047daa9888d7ca410e095",
            "b1f63f151a5147eeb3ab2121ce059d3e",
            "17e180f4e0ea4575b844d494ad87f26b",
            "85378a8b59f5474a8d7f0c16d7a41cbc"
          ]
        },
        "id": "iqskZZ9AOv-e",
        "outputId": "21ef203d-11d6-4e29-827d-d1ee2889a95a"
      },
      "execution_count": null,
      "outputs": [
        {
          "output_type": "display_data",
          "data": {
            "text/plain": [
              "model.safetensors:   0%|          | 0.00/60.4M [00:00<?, ?B/s]"
            ],
            "application/vnd.jupyter.widget-view+json": {
              "version_major": 2,
              "version_minor": 0,
              "model_id": "df95a06d395d4193b6268a4ebac09bec"
            }
          },
          "metadata": {}
        },
        {
          "output_type": "stream",
          "name": "stdout",
          "text": [
            "✅ MobileOne-S4 모델 생성 완료 (Dropout 포함)\n"
          ]
        }
      ]
    },
    {
      "cell_type": "code",
      "source": [
        "# 6단계. 손실 함수, 옵티마이저, 스케줄러, EarlyStopping 구성\n",
        "\n",
        "# 손실 함수 (클래스 불균형 고려 가능)\n",
        "criterion = nn.CrossEntropyLoss()  # 클래스 가중치 제거\n",
        "\n",
        "\n",
        "# 옵티마이저 (AdamW 사용 + 가중치 감쇠로 정규화)\n",
        "optimizer = torch.optim.AdamW(\n",
        "    model.parameters(), lr=1e-3, weight_decay=1e-4\n",
        ")\n",
        "\n",
        "# 러닝레이트 스케줄러 (성능 정체 시 LR 감소)\n",
        "scheduler = torch.optim.lr_scheduler.ReduceLROnPlateau(\n",
        "    optimizer, mode='min', factor=0.5, patience=3, verbose=True\n",
        ")\n",
        "\n",
        "# 조기 종료 설정\n",
        "best_val_acc = 0.0\n",
        "patience = 5\n",
        "patience_counter = 0\n",
        "\n",
        "print(\"✅ 손실 함수 및 최적화 구성 완료 (과적합 방지 포함)\")\n"
      ],
      "metadata": {
        "colab": {
          "base_uri": "https://localhost:8080/"
        },
        "id": "fYcvb3tRO7gO",
        "outputId": "b8678c0a-4975-416d-e700-2f87957acc31"
      },
      "execution_count": null,
      "outputs": [
        {
          "output_type": "stream",
          "name": "stdout",
          "text": [
            "✅ 손실 함수 및 최적화 구성 완료 (과적합 방지 포함)\n"
          ]
        }
      ]
    },
    {
      "cell_type": "code",
      "source": [
        "# 7단계. 학습 루프 (EarlyStopping 포함, CPU 최적화)\n",
        "\n",
        "# 변수 정의\n",
        "EPOCHS = 20                 # 너무 크지 않게 (CPU 환경)\n",
        "best_val_acc = 0\n",
        "patience_cnt = 0\n",
        "patience_limit = 5          # 5 epoch 동안 개선 없으면 멈춤\n",
        "\n",
        "for epoch in range(1, EPOCHS + 1):\n",
        "    model.train()\n",
        "    total, correct, loss_sum = 0, 0, 0.0\n",
        "\n",
        "    for x, y in train_loader:\n",
        "        x, y = x.to(device), y.to(device)\n",
        "        optimizer.zero_grad()\n",
        "        out = model(x)\n",
        "        loss = criterion(out, y)\n",
        "        loss.backward()\n",
        "        optimizer.step()\n",
        "\n",
        "        preds = out.argmax(1)\n",
        "        correct += (preds == y).sum().item()\n",
        "        total += y.size(0)\n",
        "        loss_sum += loss.item()\n",
        "\n",
        "    train_loss = loss_sum / total\n",
        "    train_acc = correct / total\n",
        "    print(f\"[Epoch {epoch:02d}] Train Loss: {train_loss:.4f} | Train Acc: {100*train_acc:.2f}%\")\n",
        "\n",
        "    # 검증 단계\n",
        "    model.eval()\n",
        "    val_loss_sum, val_correct, val_total = 0.0, 0, 0\n",
        "    with torch.no_grad():\n",
        "        for x, y in test_loader:\n",
        "            x, y = x.to(device), y.to(device)\n",
        "            out = model(x)\n",
        "            loss = criterion(out, y)\n",
        "            val_loss_sum += loss.item() * y.size(0)\n",
        "            preds = out.argmax(1)\n",
        "            val_correct += (preds == y).sum().item()\n",
        "            val_total += y.size(0)\n",
        "\n",
        "    val_loss = val_loss_sum / val_total\n",
        "    val_acc = val_correct / val_total\n",
        "    print(f\"           Val Loss: {val_loss:.4f} | Val Acc: {100*val_acc:.2f}%\")\n",
        "\n",
        "    # EarlyStopping & Scheduler\n",
        "    scheduler.step(val_loss)\n",
        "    if val_acc > best_val_acc:\n",
        "        best_val_acc = val_acc\n",
        "        patience_cnt = 0\n",
        "    else:\n",
        "        patience_cnt += 1\n",
        "        if patience_cnt >= patience_limit:\n",
        "            print(f\"⏹️ Early stopping at epoch {epoch}\")\n",
        "            break\n"
      ],
      "metadata": {
        "colab": {
          "base_uri": "https://localhost:8080/"
        },
        "id": "mRpNrAr3PClf",
        "outputId": "fe24d5b5-ca29-4367-be30-8a3bc99da767"
      },
      "execution_count": null,
      "outputs": [
        {
          "output_type": "stream",
          "name": "stdout",
          "text": [
            "[Epoch 01] Train Loss: 0.0289 | Train Acc: 85.12%\n",
            "           Val Loss: 0.3141 | Val Acc: 89.09%\n",
            "[Epoch 02] Train Loss: 0.0147 | Train Acc: 92.17%\n",
            "           Val Loss: 0.2665 | Val Acc: 90.97%\n",
            "[Epoch 03] Train Loss: 0.0119 | Train Acc: 93.53%\n",
            "           Val Loss: 0.2689 | Val Acc: 91.34%\n",
            "[Epoch 04] Train Loss: 0.0101 | Train Acc: 94.56%\n",
            "           Val Loss: 0.3178 | Val Acc: 89.71%\n",
            "[Epoch 05] Train Loss: 0.0084 | Train Acc: 95.38%\n",
            "           Val Loss: 0.2407 | Val Acc: 92.08%\n",
            "[Epoch 06] Train Loss: 0.0084 | Train Acc: 95.52%\n",
            "           Val Loss: 0.2937 | Val Acc: 91.01%\n",
            "[Epoch 07] Train Loss: 0.0072 | Train Acc: 96.11%\n",
            "           Val Loss: 0.2562 | Val Acc: 91.46%\n",
            "[Epoch 08] Train Loss: 0.0070 | Train Acc: 96.31%\n",
            "           Val Loss: 0.2412 | Val Acc: 92.07%\n",
            "[Epoch 09] Train Loss: 0.0057 | Train Acc: 96.91%\n",
            "           Val Loss: 0.2342 | Val Acc: 92.36%\n",
            "[Epoch 10] Train Loss: 0.0055 | Train Acc: 96.85%\n",
            "           Val Loss: 0.8056 | Val Acc: 90.20%\n",
            "[Epoch 11] Train Loss: 0.0054 | Train Acc: 97.01%\n",
            "           Val Loss: 15.1678 | Val Acc: 92.79%\n",
            "[Epoch 12] Train Loss: 0.0048 | Train Acc: 97.44%\n",
            "           Val Loss: 1.1371 | Val Acc: 93.32%\n",
            "[Epoch 13] Train Loss: 0.0045 | Train Acc: 97.54%\n",
            "           Val Loss: 0.2426 | Val Acc: 92.89%\n",
            "[Epoch 14] Train Loss: 0.0024 | Train Acc: 98.67%\n",
            "           Val Loss: 0.2405 | Val Acc: 93.06%\n",
            "[Epoch 15] Train Loss: 0.0020 | Train Acc: 98.92%\n",
            "           Val Loss: 0.3192 | Val Acc: 93.03%\n",
            "[Epoch 16] Train Loss: 0.0015 | Train Acc: 99.14%\n",
            "           Val Loss: 0.8543 | Val Acc: 93.22%\n",
            "[Epoch 17] Train Loss: 0.0018 | Train Acc: 98.99%\n",
            "           Val Loss: 4.1675 | Val Acc: 93.65%\n",
            "[Epoch 18] Train Loss: 0.0010 | Train Acc: 99.50%\n",
            "           Val Loss: 0.2331 | Val Acc: 93.99%\n",
            "[Epoch 19] Train Loss: 0.0006 | Train Acc: 99.72%\n",
            "           Val Loss: 0.2370 | Val Acc: 94.16%\n",
            "[Epoch 20] Train Loss: 0.0005 | Train Acc: 99.75%\n",
            "           Val Loss: 26.6563 | Val Acc: 93.91%\n"
          ]
        }
      ]
    },
    {
      "cell_type": "code",
      "source": [
        "# 8단계. 테스트 평가 및 리포트\n",
        "\n",
        "model.eval()\n",
        "y_true, y_pred = [], []\n",
        "\n",
        "with torch.no_grad():\n",
        "    for x, y in test_loader:\n",
        "        x = x.to(device)\n",
        "        out = model(x)\n",
        "        preds = out.argmax(1).cpu().numpy()\n",
        "        y_pred.extend(preds)\n",
        "        y_true.extend(y.numpy())\n",
        "\n",
        "print(\"✅ 테스트 분류 리포트:\")\n",
        "print(classification_report(y_true, y_pred, digits=4))\n"
      ],
      "metadata": {
        "colab": {
          "base_uri": "https://localhost:8080/"
        },
        "id": "PWjYd1hMPTl-",
        "outputId": "b17ea97e-4517-4dca-fb95-6faa948f62de"
      },
      "execution_count": null,
      "outputs": [
        {
          "output_type": "stream",
          "name": "stdout",
          "text": [
            "✅ 테스트 분류 리포트:\n",
            "              precision    recall  f1-score   support\n",
            "\n",
            "           0     0.9639    0.9639    0.9639       859\n",
            "           1     0.8909    0.8829    0.8869       111\n",
            "           2     0.9118    0.9162    0.9140      1038\n",
            "           3     0.9875    0.9768    0.9821      1936\n",
            "           4     0.8537    0.8846    0.8689       719\n",
            "           5     0.8729    0.9133    0.8927       173\n",
            "           6     0.9148    0.8571    0.8850       238\n",
            "           7     0.9643    0.9000    0.9310        30\n",
            "\n",
            "    accuracy                         0.9391      5104\n",
            "   macro avg     0.9200    0.9118    0.9156      5104\n",
            "weighted avg     0.9398    0.9391    0.9393      5104\n",
            "\n"
          ]
        }
      ]
    },
    {
      "cell_type": "code",
      "source": [
        "# 9단계. Confusion Matrix 시각화 + 배열 출력 포함\n",
        "\n",
        "# 혼동 행렬 계산\n",
        "cm = confusion_matrix(y_true, y_pred)\n",
        "cm_norm = cm.astype(float) / cm.sum(axis=1)[:, None]\n",
        "\n",
        "# 클래스 이름 정의\n",
        "class_names = ['Center','Donut','Edge-Loc','Edge-Ring','Loc','Random','Scratch','Near-full']\n",
        "\n",
        "# ✅ 1. 원본 행렬 시각화\n",
        "plt.figure(figsize=(7,5))\n",
        "sns.heatmap(cm, annot=True, fmt='d', cmap='Blues', xticklabels=class_names, yticklabels=class_names)\n",
        "plt.title(\"Confusion Matrix (Raw)\")\n",
        "plt.xlabel(\"Predicted\")\n",
        "plt.ylabel(\"True\")\n",
        "plt.show()\n",
        "\n",
        "# ✅ 2. 정규화 행렬 시각화\n",
        "plt.figure(figsize=(7,5))\n",
        "sns.heatmap(cm_norm, annot=True, fmt='.2f', cmap='Blues', xticklabels=class_names, yticklabels=class_names)\n",
        "plt.title(\"Confusion Matrix (Normalized)\")\n",
        "plt.xlabel(\"Predicted\")\n",
        "plt.ylabel(\"True\")\n",
        "plt.show()\n",
        "\n",
        "# ✅ 3. 배열 형태 출력\n",
        "print(\"🔹 Confusion Matrix (Raw) 배열:\")\n",
        "print(np.array2string(cm, separator=', '))\n",
        "\n",
        "print(\"\\n🔹 Confusion Matrix (Normalized) 배열:\")\n",
        "print(np.array2string(cm_norm, separator=', ', precision=2))\n"
      ],
      "metadata": {
        "colab": {
          "base_uri": "https://localhost:8080/",
          "height": 1000
        },
        "id": "rAKQfSiRPV1O",
        "outputId": "dfe9c5c7-d314-4762-ddb0-802a0986dc1f"
      },
      "execution_count": null,
      "outputs": [
        {
          "output_type": "display_data",
          "data": {
            "text/plain": [
              "<Figure size 700x500 with 2 Axes>"
            ],
            "image/png": "[encoded data removed]"
          },
          "metadata": {}
        },
        {
          "output_type": "display_data",
          "data": {
            "text/plain": [
              "<Figure size 700x500 with 2 Axes>"
            ],
            "image/png": "[encoded data removed]"
          },
          "metadata": {}
        },
        {
          "output_type": "stream",
          "name": "stdout",
          "text": [
            "🔹 Confusion Matrix (Raw) 배열:\n",
            "[[ 828,    3,    5,    0,   16,    6,    1,    0],\n",
            " [   6,   98,    0,    0,    6,    1,    0,    0],\n",
            " [   1,    1,  951,   22,   56,    4,    3,    0],\n",
            " [   0,    1,   40, 1891,    1,    3,    0,    0],\n",
            " [  23,    6,   34,    0,  636,    5,   15,    0],\n",
            " [   1,    1,    3,    0,    9,  158,    0,    1],\n",
            " [   0,    0,   10,    2,   21,    1,  204,    0],\n",
            " [   0,    0,    0,    0,    0,    3,    0,   27]]\n",
            "\n",
            "🔹 Confusion Matrix (Normalized) 배열:\n",
            "[[9.64e-01, 3.49e-03, 5.82e-03, 0.00e+00, 1.86e-02, 6.98e-03, 1.16e-03,\n",
            "  0.00e+00],\n",
            " [5.41e-02, 8.83e-01, 0.00e+00, 0.00e+00, 5.41e-02, 9.01e-03, 0.00e+00,\n",
            "  0.00e+00],\n",
            " [9.63e-04, 9.63e-04, 9.16e-01, 2.12e-02, 5.39e-02, 3.85e-03, 2.89e-03,\n",
            "  0.00e+00],\n",
            " [0.00e+00, 5.17e-04, 2.07e-02, 9.77e-01, 5.17e-04, 1.55e-03, 0.00e+00,\n",
            "  0.00e+00],\n",
            " [3.20e-02, 8.34e-03, 4.73e-02, 0.00e+00, 8.85e-01, 6.95e-03, 2.09e-02,\n",
            "  0.00e+00],\n",
            " [5.78e-03, 5.78e-03, 1.73e-02, 0.00e+00, 5.20e-02, 9.13e-01, 0.00e+00,\n",
            "  5.78e-03],\n",
            " [0.00e+00, 0.00e+00, 4.20e-02, 8.40e-03, 8.82e-02, 4.20e-03, 8.57e-01,\n",
            "  0.00e+00],\n",
            " [0.00e+00, 0.00e+00, 0.00e+00, 0.00e+00, 0.00e+00, 1.00e-01, 0.00e+00,\n",
            "  9.00e-01]]\n"
          ]
        }
      ]
    }
  ]
}